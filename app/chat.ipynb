{
 "cells": [
  {
   "cell_type": "code",
   "execution_count": 1,
   "metadata": {
    "tags": []
   },
   "outputs": [],
   "source": [
    "import os\n",
    "\n",
    "from snowflake.snowpark import Session\n",
    "import pandas as pd\n",
    "import weaviate"
   ]
  },
  {
   "cell_type": "markdown",
   "metadata": {},
   "source": [
    "## Create Weaviate Schema"
   ]
  },
  {
   "cell_type": "markdown",
   "metadata": {},
   "source": [
    "Create Snowpark session through a combination of automatic environment variables and those explicitly specified in the spec yaml file."
   ]
  },
  {
   "cell_type": "code",
   "execution_count": 2,
   "metadata": {
    "tags": []
   },
   "outputs": [],
   "source": [
    "def get_token():\n",
    "    with open('/snowflake/session/token', 'r') as f:\n",
    "        return f.read()\n",
    "\n",
    "connection_params = {\n",
    "    'host': os.environ['SNOWFLAKE_HOST'], # Automatically created in SPCS\n",
    "    'port': os.environ['SNOWFLAKE_PORT'], # Automatically created in SPCS\n",
    "    'protocol': 'https',\n",
    "    'account': os.environ['SNOWFLAKE_ACCOUNT'], # Automatically created in SPCS\n",
    "    'authenticator': 'oauth',\n",
    "    'token': get_token(),\n",
    "    'role': os.environ['SNOW_ROLE'], # Explicitly created in spec file's env section\n",
    "    'warehouse': os.environ['SNOW_WAREHOUSE'], # Explicitly created in spec file's env section\n",
    "    'database': os.environ[\"SNOW_DATABASE\"], # Explicitly created in spec file's env section\n",
    "    'schema': os.environ[\"SNOW_SCHEMA\"] # Explicitly created in spec file's env section\n",
    "}\n",
    "\n",
    "\n",
    "session = Session.builder.configs(connection_params).create()"
   ]
  },
  {
   "cell_type": "markdown",
   "metadata": {},
   "source": [
    "Establish a connection to the running Weaviate service through its endpoint. The final line in the below cell indicates that the service is operational."
   ]
  },
  {
   "cell_type": "code",
   "execution_count": 3,
   "metadata": {
    "tags": []
   },
   "outputs": [
    {
     "data": {
      "text/plain": [
       "True"
      ]
     },
     "execution_count": 3,
     "metadata": {},
     "output_type": "execute_result"
    }
   ],
   "source": [
    "client = weaviate.Client(\n",
    "    url = os.environ[\"WEAVIATE_URL\"],\n",
    ")\n",
    "client.is_ready()"
   ]
  },
  {
   "cell_type": "code",
   "execution_count": 4,
   "metadata": {
    "tags": []
   },
   "outputs": [],
   "source": [
    "def get_properties(client) -> list[str]:\n",
    "    \"\"\"Returns all properties of first weaviate class\"\"\"\n",
    "    properties = client.schema.get()['classes'][0]['properties']\n",
    "    names = [i.get('name') for i in properties]\n",
    "    return names\n",
    "\n",
    "weaviate_properties = get_properties(client)"
   ]
  },
  {
   "cell_type": "markdown",
   "metadata": {},
   "source": [
    "RAG from a chat agent is conducted using a `retriever`. Retrievers in langchain are source-specific, meaning retrieval from our weaviate service requires a weaviate-specific retriever from langchain. Langchain offers a number of `retriever` classes. The `WeaviateHybridSearchRetriever` is one of the more advanced out of the box `retrievers` as it combines keyword search and semantic meaning. Recall that our weaviate currently stores most text-based metadata and the vectorized form of our generated descriptions.\n",
    "\n",
    "Most retrievers allow the ability to parameterize the inclusion of `scores`. Unfortunately, as of December 2023, this is not possible in langchain so the below custom class overrides `WeaviateHybridSearchRetriever` to include `scores` by default. Doing this is entirely optional and done exclusively for testing to determine if there is a desire to set a threshold for `scores`. The current Streamlit UI simply uses `WeaviateHybridSearchRetriever` out of the box. See the below cells for an explanation of parameters. More info at https://python.langchain.com/docs/integrations/retrievers/weaviate-hybrid."
   ]
  },
  {
   "cell_type": "code",
   "execution_count": 5,
   "metadata": {
    "tags": []
   },
   "outputs": [],
   "source": [
    "# https://github.com/langchain-ai/langchain/blob/master/libs/community/langchain_community/retrievers/weaviate_hybrid_search.py#L12\n",
    "from __future__ import annotations\n",
    "\n",
    "from typing import Any, Dict, List, Optional, cast\n",
    "from uuid import uuid4\n",
    "\n",
    "from langchain_core.pydantic_v1 import root_validator\n",
    "from langchain_core.retrievers import BaseRetriever\n",
    "\n",
    "from langchain.callbacks.manager import CallbackManagerForRetrieverRun\n",
    "from langchain.docstore.document import Document\n",
    "\n",
    "from langchain.retrievers.weaviate_hybrid_search import WeaviateHybridSearchRetriever\n",
    "\n",
    "class MyWeaviateHybridSearchRetriever(WeaviateHybridSearchRetriever):\n",
    "    def _get_relevant_documents(\n",
    "        self,\n",
    "        query: str,\n",
    "        *,\n",
    "        run_manager: CallbackManagerForRetrieverRun,\n",
    "        where_filter: Optional[Dict[str, object]] = None,\n",
    "        score: bool = True, # Set to default to True\n",
    "        hybrid_search_kwargs: Optional[Dict[str, object]] = None,\n",
    "    ) -> List[Document]:\n",
    "        \"\"\"Look up similar documents in Weaviate.\n",
    "\n",
    "        query: The query to search for relevant documents\n",
    "         of using weviate hybrid search.\n",
    "\n",
    "        where_filter: A filter to apply to the query.\n",
    "            https://weaviate.io/developers/weaviate/guides/querying/#filtering\n",
    "\n",
    "        score: Whether to include the score, and score explanation\n",
    "            in the returned Documents meta_data.\n",
    "\n",
    "        hybrid_search_kwargs: Used to pass additional arguments\n",
    "         to the .with_hybrid() method.\n",
    "            The primary uses cases for this are:\n",
    "            1)  Search specific properties only -\n",
    "                specify which properties to be used during hybrid search portion.\n",
    "                Note: this is not the same as the (self.attributes) to be returned.\n",
    "                Example - hybrid_search_kwargs={\"properties\": [\"question\", \"answer\"]}\n",
    "            https://weaviate.io/developers/weaviate/search/hybrid#selected-properties-only\n",
    "\n",
    "            2) Weight boosted searched properties -\n",
    "                Boost the weight of certain properties during the hybrid search portion.\n",
    "                Example - hybrid_search_kwargs={\"properties\": [\"question^2\", \"answer\"]}\n",
    "            https://weaviate.io/developers/weaviate/search/hybrid#weight-boost-searched-properties\n",
    "\n",
    "            3) Search with a custom vector - Define a different vector\n",
    "                to be used during the hybrid search portion.\n",
    "                Example - hybrid_search_kwargs={\"vector\": [0.1, 0.2, 0.3, ...]}\n",
    "            https://weaviate.io/developers/weaviate/search/hybrid#with-a-custom-vector\n",
    "\n",
    "            4) Use Fusion ranking method\n",
    "                Example - from weaviate.gql.get import HybridFusion\n",
    "                hybrid_search_kwargs={\"fusion\": fusion_type=HybridFusion.RELATIVE_SCORE}\n",
    "            https://weaviate.io/developers/weaviate/search/hybrid#fusion-ranking-method\n",
    "        \"\"\"\n",
    "        query_obj = self.client.query.get(self.index_name, self.attributes)\n",
    "        if where_filter:\n",
    "            query_obj = query_obj.with_where(where_filter)\n",
    "\n",
    "        if score:\n",
    "            query_obj = query_obj.with_additional([\"score\"]) # Removed explain score\n",
    "\n",
    "        if hybrid_search_kwargs is None:\n",
    "            hybrid_search_kwargs = {}\n",
    "\n",
    "        result = (\n",
    "            query_obj.with_hybrid(query, alpha=self.alpha, **hybrid_search_kwargs)\n",
    "            .with_limit(self.k)\n",
    "            .do()\n",
    "        )\n",
    "        if \"errors\" in result:\n",
    "            raise ValueError(f\"Error during query: {result['errors']}\")\n",
    "\n",
    "        docs = []\n",
    "\n",
    "        for res in result[\"data\"][\"Get\"][self.index_name]:\n",
    "            text = res.pop(self.text_key)\n",
    "            docs.append(Document(page_content=text, metadata=res))\n",
    "        return docs\n",
    "    \n",
    "myretriever = MyWeaviateHybridSearchRetriever(\n",
    "    client=client,\n",
    "    index_name=os.environ[\"INDEX_NAME\"], # Class name in Weaviate schema\n",
    "    text_key=os.environ[\"TEXT_KEY\"], # Page content in query results\n",
    "    attributes = weaviate_properties, # What properties to return\n",
    "    properties= weaviate_properties, # Limits the set of properties that will be searched by the BM25 component of the search\n",
    "    alpha = .8, # Balances keyword search with semantic embedding search (0.5 means equal weighting)\n",
    "    k = 10 # Number of documents to return\n",
    ")"
   ]
  },
  {
   "cell_type": "markdown",
   "metadata": {},
   "source": [
    "Below we create the first of 2 conversational chat agents. We start with a purely retrieval-based conversational agent meaning it is simply instructed to answer questions based on context (served up by our `retriever`), the question asked, and the conversation history. This is the chat agent currently used in the Streamlit UI.\n",
    "\n",
    "The LLM inferencing is done through the `vllm` API, which is running in its own containerized service. The beauty of VLLM is that it not only serves up an API with one line of code but allows us to wrap that API in an OpenAI-like chat interface. We pass a service endpoint URL and the model namethe to the chat mechanism. The `MODEL_NAME` (environment variable) is set to `openchat35` in both `chat.yaml` and `vllm/vllm.yaml`. This `MODEL_NAME` is set for the API when the container executes `vllm/entrypoint.sh`. If using a chat mechanism directly from openai python package you may need to set the `MODEL_NAME` to an existing OpenAI model name such as `gpt-3.5-turbo`. Some of the openai python modules conduct validation to confirm the model name correspond to official OpenAI model. Fortunately, VLLM makes it easy to mitigate this validation concern.\n",
    "\n",
    "Lastly, we can use `ConversationalRetrievalChain`'s default prompt instructions. However, we can also customize the prompt commonly done to hone style, instructions, or format. To do so, we have includes a `system_prompt.yaml`, which uses langchain's prompt serialization (https://python.langchain.com/docs/modules/model_io/prompts/prompt_templates/prompt_serialization) to import it from a yaml file. Results are not streamed in this demo but are streamed in the streamlit app. Results here can take ~30 seconds to return but are very fast streaming in the streamlit app. "
   ]
  },
  {
   "cell_type": "code",
   "execution_count": 6,
   "metadata": {
    "tags": []
   },
   "outputs": [],
   "source": [
    "def prep_dns(text):\n",
    "    \"\"\"Makes DNS/API URL all lowercase and replaces _ with -.\"\"\"\n",
    "    return text.lower().replace(\"_\", \"-\")"
   ]
  },
  {
   "cell_type": "code",
   "execution_count": 11,
   "metadata": {
    "tags": []
   },
   "outputs": [],
   "source": [
    "# Create high level agent constructor.\n",
    "from langchain.chat_models import ChatOpenAI\n",
    "from langchain.prompts import load_prompt\n",
    "from langchain.chains import ConversationalRetrievalChain\n",
    "from langchain.memory import ConversationBufferMemory # Can use ConversationBufferWindowMemory(k=5) to specify sliding window \n",
    "from langchain.prompts.chat import (\n",
    "    SystemMessagePromptTemplate,\n",
    "    HumanMessagePromptTemplate,\n",
    "    ChatPromptTemplate\n",
    ")\n",
    "import openai\n",
    "\n",
    "model = os.environ[\"MODEL_NAME\"]\n",
    "api_base = prep_dns(f'http://api.{os.environ[\"SNOW_SCHEMA\"]}.{os.environ[\"SNOW_DATABASE\"]}.snowflakecomputing.internal:8000/v1')\n",
    "\n",
    "llm = ChatOpenAI(\n",
    "    model=model,\n",
    "    openai_api_key=\"EMPTY\",\n",
    "    openai_api_base=api_base,\n",
    "    max_tokens=600,\n",
    "    temperature=0.5\n",
    ")\n",
    "\n",
    "memory = ConversationBufferMemory(memory_key=\"chat_history\", return_messages=True, output_key='answer')\n",
    "\n",
    "# Create the chat prompt templates\n",
    "system_message_prompt = SystemMessagePromptTemplate(prompt=load_prompt('system_prompt.yaml'))\n",
    "messages = [\n",
    "    system_message_prompt,\n",
    "    HumanMessagePromptTemplate.from_template(\"{question}\")\n",
    "]\n",
    "qa_prompt = ChatPromptTemplate.from_messages(messages)\n",
    "\n",
    "chain = ConversationalRetrievalChain.from_llm(llm, \n",
    "                                              myretriever, # My version with score = True\n",
    "                                              return_source_documents=True, # Returns results from weaviate in response\n",
    "                                              memory = memory,\n",
    "                                              verbose = False,\n",
    "                                              combine_docs_chain_kwargs={\"prompt\": qa_prompt}, # Use customized prompt\n",
    "                                              get_chat_history=lambda h : h) # Resolves bug in langchain chat history mechanism"
   ]
  },
  {
   "cell_type": "code",
   "execution_count": 8,
   "metadata": {
    "tags": []
   },
   "outputs": [
    {
     "name": "stdout",
     "output_type": "stream",
     "text": [
      "llm_chain=LLMChain(prompt=ChatPromptTemplate(input_variables=['chat_history', 'context', 'question'], messages=[SystemMessagePromptTemplate(prompt=PromptTemplate(input_variables=['chat_history', 'context'], template=\"You are a customer service agent with knowledge of rewards/offers for product purchases.\\nSummarise the relevant offers below to answer the user's question only if it's relevant.\\nIf you cannot find the answer from the context or chat history, \\njust say that you don't know, don't make up an answer. \\nDo not make up companies, products, rewards, or programs. Be concise.\\nWhen describing offers, always include the company name, product name, and URL/hyperlink\\nif included in the context. \\nOnly reference conversation history if asked to do so, otherwise rely on the new context.\\nWhen you are listing multiple offers from multiple companies, you MUST use the format:\\nCompany A:\\n    - offer 1\\n    - offer 2\\nCompany B]:\\n    - offer 1\\n    - offer 2\\n----------------\\nRelevant Offers:\\n{context}\\nChat History:\\n{chat_history}\\n\")), HumanMessagePromptTemplate(prompt=PromptTemplate(input_variables=['question'], template='{question}'))]), llm=ChatOpenAI(client=<openai.resources.chat.completions.Completions object at 0x7ff5710ce950>, async_client=<openai.resources.chat.completions.AsyncCompletions object at 0x7ff571129840>, model_name='openchat35', temperature=0.5, openai_api_key='EMPTY', openai_api_base='http://api.catalog.jsummer.snowflakecomputing.internal:8000/v1', openai_proxy='', max_tokens=600)) document_variable_name='context'\n",
      "\n",
      "input_variables=['chat_history', 'question'] template='Given the following conversation and a follow up question, rephrase the follow up question to be a standalone question, in its original language.\\n\\nChat History:\\n{chat_history}\\nFollow Up Input: {question}\\nStandalone question:'\n"
     ]
    }
   ],
   "source": [
    "print(chain.combine_docs_chain)\n",
    "print('')\n",
    "print(chain.question_generator.prompt)"
   ]
  },
  {
   "cell_type": "code",
   "execution_count": 9,
   "metadata": {
    "tags": []
   },
   "outputs": [],
   "source": [
    "def unpack_full_result(result):\n",
    "    \"\"\"Helper function to view results in more readable manner. \"\"\"\n",
    "    print(f\"QUESTION: {result['question']}\")\n",
    "    print(f\"\\nANSWER: {result['answer']}\")\n",
    "    source_docs = result['source_documents']\n",
    "    print('\\nRAG RESULTS:')\n",
    "    for i in source_docs:\n",
    "        print(i.page_content)\n",
    "        for k,v in i.metadata.items():\n",
    "            print(f' {k} : {v}')"
   ]
  },
  {
   "cell_type": "code",
   "execution_count": 12,
   "metadata": {
    "tags": []
   },
   "outputs": [
    {
     "name": "stdout",
     "output_type": "stream",
     "text": [
      "QUESTION: Are there any rewards for pet supplies\n",
      "\n",
      "ANSWER:  Yes, there are rewards for pet supplies. Here are the relevant offers:\n",
      "\n",
      "Company Pet Parents:\n",
      "- $10 cash back for Pets category product: Purchase Pet Toy Set and write a review on the website. More info at www.petparents.com/pettoyset.\n",
      "- $10 cash back for Pet Supplies category product: Purchase Cat Toy Set and share a photo of your cat playing with the toys on social media with #PetLovers. More info at www.petlovers.com/cattoyset.\n",
      "\n",
      "Company Pet Lovers:\n",
      "- $25 gift card for Pet Supplies category product: Purchase Pet Bed and write a review on the website. More info at www.petlovers.com/petbed.\n",
      "- $25 cash back for Pets category product: Purchase Automatic Pet Feeder and write a review on the website. More info at www.petlovers.com/automaticpetfeeder.\n",
      "- $15 cash back for Pets category product: Purchase Pet Toy Bundle and write a review on the website. More info at www.petlovers.com/toybundle.\n",
      "\n",
      "Company Pet Owners:\n",
      "- $30 gift card for Pets category product: Purchase Automatic Pet Feeder and share a photo of your pet enjoying their meal on social media with #PetOwnersFeeder. More info at www.petowners.com/petfeeder.\n",
      "\n",
      "Company Pet Paradise:\n",
      "- $35 gift card for Pets category product: Purchase Pet Grooming Kit and share a photo of your pet after grooming on social media with #PetParadise. More info at www.petparadise.com/petgroomingkit.\n",
      "\n",
      "Company Pet Lovers:\n",
      "- $15 cash back for Pets category product: Purchase Interactive Dog Toy and write a review on the website. More info at www.petlovers.com/dogtoy.\n",
      "\n",
      "Company Pet Parents:\n",
      "- $10 cash back for Pets category product: Purchase Cat Scratching Post and write a review on the website. More info at www.petparents.com/catscratchingpost.\n",
      "\n",
      "RAG RESULTS:\n",
      "Company Pet Parents is offering a $10 cash back for a Pets category product. To receive the reward, Purchase Pet Toy Set and write a review on our website. The product description is Keep your furry friend entertained and active with our Pet Toy Set. This set includes a variety of toys that stimulate your pet's natural instincts, promote exercise, and provide hours of fun. Spoil your pet with Pet Parents' Pet Toy Set. More info at www.petparents.com/pettoyset.\n",
      " _additional : {'score': '0.015288667'}\n",
      " hYPERLINK : www.petparents.com/pettoyset\n",
      " oRGANIZATION_NAME : Pet Parents\n",
      " pRODUCT_CATEGORY : Pets\n",
      " pRODUCT_DESCRIPTION : Keep your furry friend entertained and active with our Pet Toy Set. This set includes a variety of toys that stimulate your pet's natural instincts, promote exercise, and provide hours of fun. Spoil your pet with Pet Parents' Pet Toy Set.\n",
      " pRODUCT_NAME : Pet Toy Set\n",
      " qUALIFICATION : Purchase Pet Toy Set and write a review on our website\n",
      " rEWARD : $10\n",
      " rEWARD_TYPE : cash back\n",
      "Company Pet Parents is offering a $10 cash back for a Pets category product. To receive the reward, Purchase Pet Toy Set and write a review on our website. The product description is Keep your furry friend entertained and active with our Pet Toy Set. This set includes a variety of toys that stimulate your pet's natural instincts, promote exercise, and provide hours of fun. Spoil your pet with Pet Parents' Pet Toy Set. More info at www.petparents.com/pettoyset.\n",
      " _additional : {'score': '0.015053763'}\n",
      " hYPERLINK : www.petparents.com/pettoyset\n",
      " oRGANIZATION_NAME : Pet Parents\n",
      " pRODUCT_CATEGORY : Pets\n",
      " pRODUCT_DESCRIPTION : Keep your furry friend entertained and active with our Pet Toy Set. This set includes a variety of toys that stimulate your pet's natural instincts, promote exercise, and provide hours of fun. Spoil your pet with Pet Parents' Pet Toy Set.\n",
      " pRODUCT_NAME : Pet Toy Set\n",
      " qUALIFICATION : Purchase Pet Toy Set and write a review on our website\n",
      " rEWARD : $10\n",
      " rEWARD_TYPE : cash back\n",
      "Company Pet Lovers is offering a $10 cash back for a Pet Supplies category product. To receive the reward, Purchase Cat Toy Set and share a photo of your cat playing with the toys on social media with #PetLovers. The product description is Keep your feline friend entertained with our Cat Toy Set. This assortment of interactive toys provides mental stimulation and exercise for cats of all ages. Show your love to your furry companion with Pet Lovers' Cat Toy Set. More info at www.petlovers.com/cattoyset.\n",
      " _additional : {'score': '0.014938113'}\n",
      " hYPERLINK : www.petlovers.com/cattoyset\n",
      " oRGANIZATION_NAME : Pet Lovers\n",
      " pRODUCT_CATEGORY : Pet Supplies\n",
      " pRODUCT_DESCRIPTION : Keep your feline friend entertained with our Cat Toy Set. This assortment of interactive toys provides mental stimulation and exercise for cats of all ages. Show your love to your furry companion with Pet Lovers' Cat Toy Set.\n",
      " pRODUCT_NAME : Cat Toy Set\n",
      " qUALIFICATION : Purchase Cat Toy Set and share a photo of your cat playing with the toys on social media with #PetLovers\n",
      " rEWARD : $10\n",
      " rEWARD_TYPE : cash back\n",
      "Company Pet Lovers is offering a $25 gift card for a Pet Supplies category product. To receive the reward, Purchase Pet Bed and write a review on our website. The product description is Give your furry friend the ultimate comfort with our Pet Bed. This plush and cozy bed provides a luxurious resting spot for your pet, ensuring they get the rest they deserve. Spoil your pet with Pet Lovers' Pet Bed. More info at www.petlovers.com/petbed.\n",
      " _additional : {'score': '0.0148200095'}\n",
      " hYPERLINK : www.petlovers.com/petbed\n",
      " oRGANIZATION_NAME : Pet Lovers\n",
      " pRODUCT_CATEGORY : Pet Supplies\n",
      " pRODUCT_DESCRIPTION : Give your furry friend the ultimate comfort with our Pet Bed. This plush and cozy bed provides a luxurious resting spot for your pet, ensuring they get the rest they deserve. Spoil your pet with Pet Lovers' Pet Bed.\n",
      " pRODUCT_NAME : Pet Bed\n",
      " qUALIFICATION : Purchase Pet Bed and write a review on our website\n",
      " rEWARD : $25\n",
      " rEWARD_TYPE : gift card\n",
      "Company Pet Owners is offering a $30 gift card for a Pets category product. To receive the reward, Purchase Automatic Pet Feeder and share a photo of your pet enjoying their meal on social media with #PetOwnersFeeder. The product description is Simplify feeding time with our Automatic Pet Feeder. This smart device allows you to schedule and control your pet's meals, ensuring they are fed on time even when you're away. Take care of your furry friends with Pet Owners' Automatic Pet Feeder. More info at www.petowners.com/petfeeder.\n",
      " _additional : {'score': '0.0146786105'}\n",
      " hYPERLINK : www.petowners.com/petfeeder\n",
      " oRGANIZATION_NAME : Pet Owners\n",
      " pRODUCT_CATEGORY : Pets\n",
      " pRODUCT_DESCRIPTION : Simplify feeding time with our Automatic Pet Feeder. This smart device allows you to schedule and control your pet's meals, ensuring they are fed on time even when you're away. Take care of your furry friends with Pet Owners' Automatic Pet Feeder.\n",
      " pRODUCT_NAME : Automatic Pet Feeder\n",
      " qUALIFICATION : Purchase Automatic Pet Feeder and share a photo of your pet enjoying their meal on social media with #PetOwnersFeeder\n",
      " rEWARD : $30\n",
      " rEWARD_TYPE : gift card\n",
      "Company Pet Lovers is offering a $25 cash back for a Pets category product. To receive the reward, Purchase Automatic Pet Feeder and write a review on our website. The product description is Simplify feeding time for your pet with our Automatic Pet Feeder. This innovative device allows you to schedule and control your pet's meals, ensuring they are fed at the right time, even when you're away. Keep your pet happy and healthy with Pet Lovers' Automatic Pet Feeder. More info at www.petlovers.com/automaticpetfeeder.\n",
      " _additional : {'score': '0.014606543'}\n",
      " hYPERLINK : www.petlovers.com/automaticpetfeeder\n",
      " oRGANIZATION_NAME : Pet Lovers\n",
      " pRODUCT_CATEGORY : Pets\n",
      " pRODUCT_DESCRIPTION : Simplify feeding time for your pet with our Automatic Pet Feeder. This innovative device allows you to schedule and control your pet's meals, ensuring they are fed at the right time, even when you're away. Keep your pet happy and healthy with Pet Lovers' Automatic Pet Feeder.\n",
      " pRODUCT_NAME : Automatic Pet Feeder\n",
      " qUALIFICATION : Purchase Automatic Pet Feeder and write a review on our website\n",
      " rEWARD : $25\n",
      " rEWARD_TYPE : cash back\n",
      "Company Pet Lovers is offering a $15 cash back for a Pets category product. To receive the reward, Purchase Pet Toy Bundle and write a review on our website. The product description is Keep your furry friends entertained with our Pet Toy Bundle. This bundle includes a variety of toys, from interactive puzzles to plush toys, providing endless fun for your pets. Show your pets some love with Pet Lovers' Pet Toy Bundle. More info at www.petlovers.com/toybundle.\n",
      " _additional : {'score': '0.014351852'}\n",
      " hYPERLINK : www.petlovers.com/toybundle\n",
      " oRGANIZATION_NAME : Pet Lovers\n",
      " pRODUCT_CATEGORY : Pets\n",
      " pRODUCT_DESCRIPTION : Keep your furry friends entertained with our Pet Toy Bundle. This bundle includes a variety of toys, from interactive puzzles to plush toys, providing endless fun for your pets. Show your pets some love with Pet Lovers' Pet Toy Bundle.\n",
      " pRODUCT_NAME : Pet Toy Bundle\n",
      " qUALIFICATION : Purchase Pet Toy Bundle and write a review on our website\n",
      " rEWARD : $15\n",
      " rEWARD_TYPE : cash back\n",
      "Company Pet Paradise is offering a $35 gift card for a Pets category product. To receive the reward, Purchase Pet Grooming Kit and share a photo of your pet after grooming on social media with #PetParadise. The product description is Keep your pet looking and feeling their best with our Pet Grooming Kit. This comprehensive kit includes all the necessary tools to groom your pet, including brushes, clippers, and nail trimmers. Pamper your pet with Pet Paradise's Pet Grooming Kit. More info at www.petparadise.com/petgroomingkit.\n",
      " _additional : {'score': '0.014168298'}\n",
      " hYPERLINK : www.petparadise.com/petgroomingkit\n",
      " oRGANIZATION_NAME : Pet Paradise\n",
      " pRODUCT_CATEGORY : Pets\n",
      " pRODUCT_DESCRIPTION : Keep your pet looking and feeling their best with our Pet Grooming Kit. This comprehensive kit includes all the necessary tools to groom your pet, including brushes, clippers, and nail trimmers. Pamper your pet with Pet Paradise's Pet Grooming Kit.\n",
      " pRODUCT_NAME : Pet Grooming Kit\n",
      " qUALIFICATION : Purchase Pet Grooming Kit and share a photo of your pet after grooming on social media with #PetParadise\n",
      " rEWARD : $35\n",
      " rEWARD_TYPE : gift card\n",
      "Company Pet Owners is offering a $25 gift card for a Pet Supplies category product. To receive the reward, Purchase Cat Scratching Post and write a review on our website. The product description is Keep your furry friend entertained and happy with our Cat Scratching Post. This durable and interactive post provides a safe and satisfying outlet for your cat's natural scratching instincts. Spoil your cat with Pet Owners' Cat Scratching Post. More info at www.petowners.com/catscratchingpost.\n",
      " _additional : {'score': '0.013709362'}\n",
      " hYPERLINK : www.petowners.com/catscratchingpost\n",
      " oRGANIZATION_NAME : Pet Owners\n",
      " pRODUCT_CATEGORY : Pet Supplies\n",
      " pRODUCT_DESCRIPTION : Keep your furry friend entertained and happy with our Cat Scratching Post. This durable and interactive post provides a safe and satisfying outlet for your cat's natural scratching instincts. Spoil your cat with Pet Owners' Cat Scratching Post.\n",
      " pRODUCT_NAME : Cat Scratching Post\n",
      " qUALIFICATION : Purchase Cat Scratching Post and write a review on our website\n",
      " rEWARD : $25\n",
      " rEWARD_TYPE : gift card\n",
      "Company Pet Lovers is offering a $15 cash back for a Pets category product. To receive the reward, Purchase Interactive Dog Toy and write a review on our website. The product description is Keep your furry friend entertained with our Interactive Dog Toy. This toy provides mental stimulation and physical exercise, promoting a healthy and happy lifestyle for your beloved pet. Show your love for animals with Pet Lovers' Interactive Dog Toy. More info at www.petlovers.com/dogtoy.\n",
      " _additional : {'score': '0.0136497'}\n",
      " hYPERLINK : www.petlovers.com/dogtoy\n",
      " oRGANIZATION_NAME : Pet Lovers\n",
      " pRODUCT_CATEGORY : Pets\n",
      " pRODUCT_DESCRIPTION : Keep your furry friend entertained with our Interactive Dog Toy. This toy provides mental stimulation and physical exercise, promoting a healthy and happy lifestyle for your beloved pet. Show your love for animals with Pet Lovers' Interactive Dog Toy.\n",
      " pRODUCT_NAME : Interactive Dog Toy\n",
      " qUALIFICATION : Purchase Interactive Dog Toy and write a review on our website\n",
      " rEWARD : $15\n",
      " rEWARD_TYPE : cash back\n"
     ]
    }
   ],
   "source": [
    "query = \"Are there any rewards for pet supplies\"\n",
    "result = chain({\"question\": query})\n",
    "unpack_full_result(result)"
   ]
  },
  {
   "cell_type": "code",
   "execution_count": 13,
   "metadata": {
    "tags": []
   },
   "outputs": [
    {
     "name": "stdout",
     "output_type": "stream",
     "text": [
      " Company Adventure Seekers:\n",
      "- $5 gift card for Outdoor Gear category product: Purchase Outdoor Backpack and write a review on our website. More info at www.adventureseekers.com/outdoorbackpack.\n",
      "- $50 cash back for Outdoor & Recreation category product: Purchase Outdoor Backpack and write a review on the website. More info at www.adventureseekers.com/outdoorbackpack.\n",
      "- $50 discount code for Sports & Outdoors category product: Purchase Outdoor Camping Gear and enter code ADVENTURE50 at checkout. More info at www.adventureseekers.com/outdoorfurniture.\n",
      "\n",
      "Company Outdoor Adventurers:\n",
      "- $0 discount code for Outdoor Recreation category product: Purchase Camping Gear Set and enter code OUTDOORFUN at checkout. More info at www.outdooradventurers.com/campinggearset.\n",
      "\n",
      "Company Adventure Seekers:\n",
      "- $50 discount code for Outdoor & Adventure category product: Purchase Outdoor Camping Gear and enter code ADVENTURE50 at checkout. More info at www.adventureseekers.com/outdoorcampinggear.\n",
      "\n",
      "Company Adventure Seekers:\n",
      "- $30 gift card for Outdoor category product: Purchase Outdoor Backpack and share a photo of your adventure on social media with #AdventureSeekers. More info at www.adventureseekers.com/outdoorbackpack.\n",
      "\n",
      "Company Outdoor Enthusiasts:\n",
      "- $40 discount code for Outdoor & Adventure category product: Purchase Camping Gear Bundle and enter code OUTDOOR40OFF at checkout. More info at www.outdoorenthusiasts.com/campinggear.\n"
     ]
    }
   ],
   "source": [
    "query = \"Show me 5 rewards for outdoor equipment.\"\n",
    "result = chain({\"question\": query})\n",
    "print(result['answer'])"
   ]
  },
  {
   "cell_type": "markdown",
   "metadata": {},
   "source": [
    "## Using Chat Agent with Tool(s)"
   ]
  },
  {
   "cell_type": "markdown",
   "metadata": {},
   "source": [
    "`ConversationalRetrievalChain` is purpose built for RAG. We can move to a purely conversational agent with access to multiple tools if we want to allow the agent to do more than retrieval. To do so, we use `initialize_agent` instead of `ConversationalRetrievalChain`. RAG is passed as one of multiple tools and handled by `RetrievalQA.from_chain_type`. The agent determines which tool(s) to use based on the tool description. We have also customized the prompts for additional clarity."
   ]
  },
  {
   "cell_type": "code",
   "execution_count": 14,
   "metadata": {
    "tags": []
   },
   "outputs": [],
   "source": [
    "from langchain.chains import RetrievalQA\n",
    "from langchain.agents import AgentType, Tool, initialize_agent\n",
    "from langchain import LLMMathChain\n",
    "from langchain.load.dump import dumps"
   ]
  },
  {
   "cell_type": "markdown",
   "metadata": {},
   "source": [
    "Default prompts at https://github.com/langchain-ai/langchain/blob/master/libs/langchain/langchain/agents/conversational/prompt.py"
   ]
  },
  {
   "cell_type": "code",
   "execution_count": 15,
   "metadata": {
    "tags": []
   },
   "outputs": [],
   "source": [
    "PREFIX = \"\"\"Assistant is a large language model.\n",
    "\n",
    "Assistant is designed to be able to assist users in finding available product reward offers for common purchases. As a language model, Assistant is able to generate human-like text based on the input it receives, allowing it to engage in natural-sounding conversations and provide responses that are coherent and relevant to the topic at hand.\n",
    "\n",
    "Assistant is constantly learning and improving, and its capabilities are constantly evolving. It is able to process and understand large amounts of text, and can use this knowledge to provide accurate and informative responses to a wide range of questions about product rewards and offers. Additionally, Assistant is able to generate its own text based on the input it receives, allowing it to engage in discussions and provide explanations and descriptions on rewards and offers.\n",
    "\n",
    "Assistant is designed to format relevant offers in a readable manner by grouping them according to the company providing the offer. Assistant likes to use numbered and bulleted lists when describing multiple offers.\n",
    "\n",
    "TOOLS:\n",
    "------\n",
    "\n",
    "Assistant has access to the following tools:\"\"\""
   ]
  },
  {
   "cell_type": "code",
   "execution_count": 16,
   "metadata": {
    "tags": []
   },
   "outputs": [],
   "source": [
    "FORMAT_INSTRUCTIONS = \"\"\"To use a tool, please use the following format:\n",
    "\n",
    "```\n",
    "Thought: Do I need to use a tool? Yes\n",
    "Action: the action to take, should be one of [{tool_names}]\n",
    "Action Input: the input to the action\n",
    "Observation: the result of the action\n",
    "```\n",
    "\n",
    "When you have a response to say to the Human, or if you do not need to use a tool, you MUST use the format:\n",
    "\n",
    "```\n",
    "Thought: Do I need to use a tool? No\n",
    "{ai_prefix}: [your response]\n",
    "```\"\"\""
   ]
  },
  {
   "cell_type": "code",
   "execution_count": 17,
   "metadata": {
    "tags": []
   },
   "outputs": [],
   "source": [
    "SUFFIX = \"\"\"Only reference conversation history if asked to do so. Begin!\n",
    "\n",
    "Previous conversation history:\n",
    "{chat_history}\n",
    "\n",
    "New input: {input}\n",
    "{agent_scratchpad}\"\"\""
   ]
  },
  {
   "cell_type": "code",
   "execution_count": 22,
   "metadata": {
    "tags": []
   },
   "outputs": [],
   "source": [
    "ruff = RetrievalQA.from_chain_type(\n",
    "    llm=llm, chain_type=\"stuff\", retriever=myretriever\n",
    ")\n",
    "\n",
    "# calculator = LLMMathChain.from_llm(llm=llm, verbose=True)\n",
    "\n",
    "tools = [\n",
    "    Tool(\n",
    "        name=\"Product Rewards\",\n",
    "        func=ruff.run,\n",
    "        description=\"Useful for when you need to answer questions about products and rewards. Input should be a fully formed question.\",\n",
    "        return_direct=True,\n",
    "    )\n",
    "    # ,\n",
    "    # Tool(\n",
    "    #     name = \"Calculator\",\n",
    "    #     func=calculator.run,\n",
    "    #     description = \"Useful when you need to do math operations or arithmetic.\"\n",
    "    #         )\n",
    "]\n",
    "\n",
    "memory = ConversationBufferMemory(memory_key=\"chat_history\", input_key=\"input\", output_key=\"output\", return_messages=True)\n",
    "\n",
    "agent = initialize_agent(\n",
    "    tools, \n",
    "    llm, \n",
    "    handle_parsing_errors=True, # Minor parsing errors can be resolved by the LLM itself\n",
    "    agent=AgentType.CONVERSATIONAL_REACT_DESCRIPTION,\n",
    "    verbose=True, # Will print thought process of LLM\n",
    "    memory = memory,\n",
    "    return_intermediate_steps=True, # Great for understanding how the LLM decides what to do when\n",
    "    agent_kwargs={\n",
    "        'prefix':PREFIX,\n",
    "        'format_instructions':FORMAT_INSTRUCTIONS,\n",
    "        'suffix':SUFFIX\n",
    "    }\n",
    ")"
   ]
  },
  {
   "cell_type": "code",
   "execution_count": 23,
   "metadata": {
    "tags": []
   },
   "outputs": [
    {
     "name": "stdout",
     "output_type": "stream",
     "text": [
      "Assistant is a large language model.\n",
      "\n",
      "Assistant is designed to be able to assist users in finding available product reward offers for common purchases. As a language model, Assistant is able to generate human-like text based on the input it receives, allowing it to engage in natural-sounding conversations and provide responses that are coherent and relevant to the topic at hand.\n",
      "\n",
      "Assistant is constantly learning and improving, and its capabilities are constantly evolving. It is able to process and understand large amounts of text, and can use this knowledge to provide accurate and informative responses to a wide range of questions about product rewards and offers. Additionally, Assistant is able to generate its own text based on the input it receives, allowing it to engage in discussions and provide explanations and descriptions on rewards and offers.\n",
      "\n",
      "Assistant is designed to format relevant offers in a readable manner by grouping them according to the company providing the offer. Assistant likes to use numbered and bulleted lists when describing multiple offers.\n",
      "\n",
      "TOOLS:\n",
      "------\n",
      "\n",
      "Assistant has access to the following tools:\n",
      "\n",
      "> Product Rewards: Useful for when you need to answer questions about products and rewards. Input should be a fully formed question.\n",
      "\n",
      "To use a tool, please use the following format:\n",
      "\n",
      "```\n",
      "Thought: Do I need to use a tool? Yes\n",
      "Action: the action to take, should be one of [Product Rewards]\n",
      "Action Input: the input to the action\n",
      "Observation: the result of the action\n",
      "```\n",
      "\n",
      "When you have a response to say to the Human, or if you do not need to use a tool, you MUST use the format:\n",
      "\n",
      "```\n",
      "Thought: Do I need to use a tool? No\n",
      "AI: [your response]\n",
      "```\n",
      "\n",
      "Only reference conversation history if asked to do so. Begin!\n",
      "\n",
      "Previous conversation history:\n",
      "{chat_history}\n",
      "\n",
      "New input: {input}\n",
      "{agent_scratchpad}\n"
     ]
    }
   ],
   "source": [
    "print(agent.agent.llm_chain.prompt.template)"
   ]
  },
  {
   "cell_type": "code",
   "execution_count": 24,
   "metadata": {
    "tags": []
   },
   "outputs": [
    {
     "name": "stdout",
     "output_type": "stream",
     "text": [
      "\n",
      "\n",
      "\u001b[1m> Entering new AgentExecutor chain...\u001b[0m\n",
      "\u001b[32;1m\u001b[1;3m Thought: Do I need to use a tool? Yes\n",
      "Action: Product Rewards\n",
      "Action Input: What rewards are there for cat toys?\u001b[0m\n",
      "Observation: \u001b[36;1m\u001b[1;3m There are several rewards for cat toys offered by different companies:\n",
      "\n",
      "1. Company Pet Lovers: $10 cash back for a Pet Supplies category product. To receive the reward, purchase a Cat Toy Set and share a photo of your cat playing with the toys on social media with #PetLovers.\n",
      "2. Company Pet Parents: $10 cash back for a Pets category product. To receive the reward, purchase a Pet Toy Set and write a review on their website.\n",
      "3. Company Pet Care: $5 cash back for a Pets category product. To receive the reward, purchase a Cat Tree and write a review on their website.\n",
      "4. Company Pet Paradise: $15 cash back for a Pet Supplies category product. To receive the reward, purchase a Cat Tree and write a review on their website.\n",
      "5. Company Pet Owners: $25 gift card for a Pet Supplies category product. To receive the reward, purchase a Cat Scratching Post and write a review on their website.\u001b[0m\n",
      "\u001b[32;1m\u001b[1;3m\u001b[0m\n",
      "\n",
      "\u001b[1m> Finished chain.\u001b[0m\n",
      "[\n",
      "  [\n",
      "    {\n",
      "      \"lc\": 1,\n",
      "      \"type\": \"constructor\",\n",
      "      \"id\": [\n",
      "        \"langchain_core\",\n",
      "        \"agents\",\n",
      "        \"AgentAction\"\n",
      "      ],\n",
      "      \"kwargs\": {\n",
      "        \"tool\": \"Product Rewards\",\n",
      "        \"tool_input\": \"What rewards are there for cat toys?\",\n",
      "        \"log\": \" Thought: Do I need to use a tool? Yes\\nAction: Product Rewards\\nAction Input: What rewards are there for cat toys?\"\n",
      "      }\n",
      "    },\n",
      "    \" There are several rewards for cat toys offered by different companies:\\n\\n1. Company Pet Lovers: $10 cash back for a Pet Supplies category product. To receive the reward, purchase a Cat Toy Set and share a photo of your cat playing with the toys on social media with #PetLovers.\\n2. Company Pet Parents: $10 cash back for a Pets category product. To receive the reward, purchase a Pet Toy Set and write a review on their website.\\n3. Company Pet Care: $5 cash back for a Pets category product. To receive the reward, purchase a Cat Tree and write a review on their website.\\n4. Company Pet Paradise: $15 cash back for a Pet Supplies category product. To receive the reward, purchase a Cat Tree and write a review on their website.\\n5. Company Pet Owners: $25 gift card for a Pet Supplies category product. To receive the reward, purchase a Cat Scratching Post and write a review on their website.\"\n",
      "  ]\n",
      "]\n"
     ]
    }
   ],
   "source": [
    "response = agent({\"input\": \"What rewards are there for cat toys?\"})\n",
    "print(dumps(response[\"intermediate_steps\"], pretty=True))"
   ]
  },
  {
   "cell_type": "code",
   "execution_count": 25,
   "metadata": {
    "tags": []
   },
   "outputs": [
    {
     "name": "stdout",
     "output_type": "stream",
     "text": [
      "\n",
      "\n",
      "\u001b[1m> Entering new AgentExecutor chain...\u001b[0m\n",
      "\u001b[32;1m\u001b[1;3m Thought: Do I need to use a tool? Yes\n",
      "Action: Product Rewards\n",
      "Action Input: 5 offers related to outdoor equipment\u001b[0m\n",
      "Observation: \u001b[36;1m\u001b[1;3m Here are five offers related to outdoor equipment:\n",
      "\n",
      "1. Company Outdoor Adventurers: Get a $0 discount on the Outdoor Recreation category product, Camping Gear Set, by using the code OUTDOORFUN at checkout. More info at www.outdooradventurers.com/campinggearset.\n",
      "2. Company Outdoor Enthusiasts: Receive a $40 discount on the Outdoor & Adventure category product, Camping Gear Bundle, by using the code OUTDOOR40OFF at checkout. More info at www.outdoorenthusiasts.com/campinggear.\n",
      "3. Company Adventure Seekers: Get a $5 gift card for the Outdoor Gear category product, Outdoor Backpack, by purchasing it and writing a review on their website. More info at www.adventureseekers.com/outdoorbackpack.\n",
      "4. Company Adventure Seekers: Receive a $50 cash back for the Outdoor & Recreation category product, Outdoor Backpack, by purchasing it and writing a review on their website. More info at www.adventureseekers.com/outdoorbackpack.\n",
      "5. Company Outdoor Adventures: Get a $50 gift card for the Outdoor Recreation category product, Camping Gear Set, by purchasing it and sharing a photo of your camping trip on social media with #OutdoorAdventures. More info at www.outdooradventures.com/campinggearset.\u001b[0m\n",
      "\u001b[32;1m\u001b[1;3m\u001b[0m\n",
      "\n",
      "\u001b[1m> Finished chain.\u001b[0m\n",
      " Here are five offers related to outdoor equipment:\n",
      "\n",
      "1. Company Outdoor Adventurers: Get a $0 discount on the Outdoor Recreation category product, Camping Gear Set, by using the code OUTDOORFUN at checkout. More info at www.outdooradventurers.com/campinggearset.\n",
      "2. Company Outdoor Enthusiasts: Receive a $40 discount on the Outdoor & Adventure category product, Camping Gear Bundle, by using the code OUTDOOR40OFF at checkout. More info at www.outdoorenthusiasts.com/campinggear.\n",
      "3. Company Adventure Seekers: Get a $5 gift card for the Outdoor Gear category product, Outdoor Backpack, by purchasing it and writing a review on their website. More info at www.adventureseekers.com/outdoorbackpack.\n",
      "4. Company Adventure Seekers: Receive a $50 cash back for the Outdoor & Recreation category product, Outdoor Backpack, by purchasing it and writing a review on their website. More info at www.adventureseekers.com/outdoorbackpack.\n",
      "5. Company Outdoor Adventures: Get a $50 gift card for the Outdoor Recreation category product, Camping Gear Set, by purchasing it and sharing a photo of your camping trip on social media with #OutdoorAdventures. More info at www.outdooradventures.com/campinggearset.\n",
      "\n",
      "[\n",
      "  [\n",
      "    {\n",
      "      \"lc\": 1,\n",
      "      \"type\": \"constructor\",\n",
      "      \"id\": [\n",
      "        \"langchain_core\",\n",
      "        \"agents\",\n",
      "        \"AgentAction\"\n",
      "      ],\n",
      "      \"kwargs\": {\n",
      "        \"tool\": \"Product Rewards\",\n",
      "        \"tool_input\": \"5 offers related to outdoor equipment\",\n",
      "        \"log\": \" Thought: Do I need to use a tool? Yes\\nAction: Product Rewards\\nAction Input: 5 offers related to outdoor equipment\"\n",
      "      }\n",
      "    },\n",
      "    \" Here are five offers related to outdoor equipment:\\n\\n1. Company Outdoor Adventurers: Get a $0 discount on the Outdoor Recreation category product, Camping Gear Set, by using the code OUTDOORFUN at checkout. More info at www.outdooradventurers.com/campinggearset.\\n2. Company Outdoor Enthusiasts: Receive a $40 discount on the Outdoor & Adventure category product, Camping Gear Bundle, by using the code OUTDOOR40OFF at checkout. More info at www.outdoorenthusiasts.com/campinggear.\\n3. Company Adventure Seekers: Get a $5 gift card for the Outdoor Gear category product, Outdoor Backpack, by purchasing it and writing a review on their website. More info at www.adventureseekers.com/outdoorbackpack.\\n4. Company Adventure Seekers: Receive a $50 cash back for the Outdoor & Recreation category product, Outdoor Backpack, by purchasing it and writing a review on their website. More info at www.adventureseekers.com/outdoorbackpack.\\n5. Company Outdoor Adventures: Get a $50 gift card for the Outdoor Recreation category product, Camping Gear Set, by purchasing it and sharing a photo of your camping trip on social media with #OutdoorAdventures. More info at www.outdooradventures.com/campinggearset.\"\n",
      "  ]\n",
      "]\n"
     ]
    }
   ],
   "source": [
    "response = agent({\"input\": \"Can you show me 5 offers related to outdoor equipment?\"})\n",
    "print(response['output'])\n",
    "print('')\n",
    "print(dumps(response[\"intermediate_steps\"], pretty=True))"
   ]
  },
  {
   "cell_type": "code",
   "execution_count": 26,
   "metadata": {
    "tags": []
   },
   "outputs": [
    {
     "name": "stdout",
     "output_type": "stream",
     "text": [
      "\n",
      "\n",
      "\u001b[1m> Entering new AgentExecutor chain...\u001b[0m\n",
      "\u001b[32;1m\u001b[1;3m Thought: Do I need to use a tool? No\n",
      "AI: The first thing you asked me was, \"What rewards are there for cat toys?\"\u001b[0m\n",
      "\n",
      "\u001b[1m> Finished chain.\u001b[0m\n",
      "The first thing you asked me was, \"What rewards are there for cat toys?\"\n",
      "\n",
      "[]\n"
     ]
    }
   ],
   "source": [
    "response = agent({\"input\": \"What was the first thing I asked you?\"})\n",
    "print(response['output'])\n",
    "print('')\n",
    "print(dumps(response[\"intermediate_steps\"], pretty=True))"
   ]
  },
  {
   "cell_type": "markdown",
   "metadata": {},
   "source": [
    "## Using RAG Source Docs to Initiate Snowpark Query"
   ]
  },
  {
   "cell_type": "markdown",
   "metadata": {},
   "source": [
    "Next, we show how the `source_documents` results from RAG can be used to initiate Snowpark queries. This is an important capability cause it allows us to take advantage of Snowflake RBAC by restricting queries to only those permitted by the end user. For example, we can use the RAG results to query a table of recommendation scores for the given user. This brings another element of personalization that can be added to the UI. See Streamlit for function to extract logged in user."
   ]
  },
  {
   "cell_type": "code",
   "execution_count": 27,
   "metadata": {
    "tags": []
   },
   "outputs": [],
   "source": [
    "# Re-create the chain to start with fresh results\n",
    "memory = ConversationBufferMemory(memory_key=\"chat_history\", return_messages=True, output_key='answer')\n",
    "\n",
    "chain = ConversationalRetrievalChain.from_llm(llm, \n",
    "                                              myretriever, # My version with score = True\n",
    "                                              return_source_documents=True, # Returns results from weaviate in response\n",
    "                                              memory = memory,\n",
    "                                              verbose = False,\n",
    "                                              combine_docs_chain_kwargs={\"prompt\": qa_prompt}, # Use customized prompt\n",
    "                                              get_chat_history=lambda h : h) # Resolves bug in langchain chat history mechanism"
   ]
  },
  {
   "cell_type": "code",
   "execution_count": 28,
   "metadata": {
    "tags": []
   },
   "outputs": [
    {
     "name": "stdout",
     "output_type": "stream",
     "text": [
      " Yes, there are rewards for health & wellness products. Here are some relevant offers:\n",
      "\n",
      "1. Company Wellness Warriors:\n",
      "    - Offer: $20 gift card\n",
      "    - Product: Health & Wellness category product (Organic Superfood Powder)\n",
      "    - Requirement: Purchase the product and share a photo of your healthy recipe on social media with #WellnessWarriors\n",
      "    - Link: www.wellnesswarriors.com/superfoodpowder\n",
      "\n",
      "2. Company Health & Wellness:\n",
      "    - Offer: $25 cash back\n",
      "    - Product: Health & Nutrition category product (Organic Superfood Blend)\n",
      "    - Requirement: Purchase the product and share a photo of your nutritious meal on social media with #HealthWellness\n",
      "    - Link: www.healthwellness.com/superfoodblend\n",
      "\n",
      "3. Company Wellness Enthusiasts:\n",
      "    - Offer: $60 cash back\n",
      "    - Product: Wellness Products category product (Essential Oil Set)\n",
      "    - Requirement: Purchase the product and share a photo of your self-care routine on social media with #WellnessEnthusiasts\n",
      "    - Link: www.wellnessenthusiasts.com/essentialoilset\n",
      "\n",
      "4. Company Wellness Warriors:\n",
      "    - Offer: $10 gift card\n",
      "    - Product: Health and Wellness category product (Essential Oil Set)\n",
      "    - Requirement: Purchase the product and share a photo of your self-care routine on social media with #WellnessWarriors\n",
      "    - Link: www.wellnesswarriors.com/essentialoilset\n",
      "\n",
      "5. Company Health Enthusiasts:\n",
      "    - Offer: $30 gift card\n",
      "    - Product: Home & Kitchen category product (Blender)\n",
      "    - Requirement: Purchase the product and share a photo of your delicious creations on social media with #HealthEnthusiasts\n",
      "    - Link: www.healthenthusiasts.com/blender\n",
      "\n",
      "6. Company Health Enthusiasts:\n",
      "    - Offer: $3 cash back\n",
      "    - Product: Health and Wellness category product (Protein Powder)\n",
      "    - Requirement: Purchase the product and share a photo of your healthy meal on social media with #HealthEnthusiasts\n",
      "    - Link: www.healthenthusiasts.com/proteinpowder\n",
      "\n",
      "7. Company Wellness Warriors:\n",
      "    - Offer: $120 cash back\n",
      "    - Product: Health & Wellness category product (Fitness Tracker)\n",
      "    - Requirement: Purchase the product and share a photo of your workout\n"
     ]
    }
   ],
   "source": [
    "query = \"Are there any rewards for health & wellness products\"\n",
    "result = chain({\"question\": query})\n",
    "print(result['answer'])"
   ]
  },
  {
   "cell_type": "code",
   "execution_count": 30,
   "metadata": {
    "tags": []
   },
   "outputs": [],
   "source": [
    "def get_property_value(result, property_name):\n",
    "    \"\"\"Returns list of property values from result metadata\"\"\"\n",
    "    values = []\n",
    "    if 'source_documents' in result:\n",
    "        for i in result['source_documents']:\n",
    "            values.append(i.metadata.get(property_name))\n",
    "        return values\n",
    "\n",
    "product_table = os.environ[\"PRODUCT_TABLE\"] # Snowflake table to query\n",
    "# Get the unique identifier property to extract\n",
    "product_uid = next((obj for obj in weaviate_properties if obj.lower() == os.environ[\"PRODUCT_ID\"].lower()), weaviate_properties[0])\n",
    "ids = get_property_value(result, product_uid)"
   ]
  },
  {
   "cell_type": "code",
   "execution_count": 31,
   "metadata": {
    "tags": []
   },
   "outputs": [
    {
     "name": "stdout",
     "output_type": "stream",
     "text": [
      "['Organic Superfood Powder', 'Organic Superfood Blend', 'Essential Oil Set', 'Essential Oil Set', 'Blender', 'Protein Powder', 'Fitness Tracker', 'Superfood Smoothie Mix', 'Fitness Tracker Watch', 'Fitness Tracker']\n"
     ]
    }
   ],
   "source": [
    "print(ids)"
   ]
  },
  {
   "cell_type": "code",
   "execution_count": 32,
   "metadata": {
    "tags": []
   },
   "outputs": [],
   "source": [
    "def query_table_single_where(table, filter_col, in_values):\n",
    "    \"\"\"Returns records from table where value from in_values is foundin filter_col\"\"\"\n",
    "    in_values = ', '.join(f\"'{i}'\" for i in ids)\n",
    "    result = session.sql(f\"\"\"\n",
    "    SELECT * \n",
    "    FROM {table}\n",
    "    WHERE\n",
    "    {filter_col}\n",
    "    IN \n",
    "    ({in_values})\n",
    "    limit 10\n",
    "    \"\"\")\n",
    "    return result.to_pandas()"
   ]
  },
  {
   "cell_type": "code",
   "execution_count": 33,
   "metadata": {
    "tags": []
   },
   "outputs": [
    {
     "data": {
      "text/html": [
       "<div>\n",
       "<style scoped>\n",
       "    .dataframe tbody tr th:only-of-type {\n",
       "        vertical-align: middle;\n",
       "    }\n",
       "\n",
       "    .dataframe tbody tr th {\n",
       "        vertical-align: top;\n",
       "    }\n",
       "\n",
       "    .dataframe thead th {\n",
       "        text-align: right;\n",
       "    }\n",
       "</style>\n",
       "<table border=\"1\" class=\"dataframe\">\n",
       "  <thead>\n",
       "    <tr style=\"text-align: right;\">\n",
       "      <th></th>\n",
       "      <th>ORGANIZATION_NAME</th>\n",
       "      <th>PRODUCT_NAME</th>\n",
       "      <th>PRODUCT_CATEGORY</th>\n",
       "      <th>PRODUCT_DESCRIPTION</th>\n",
       "      <th>REWARD</th>\n",
       "      <th>QUALIFICATION</th>\n",
       "      <th>HYPERLINK</th>\n",
       "      <th>REWARD_TYPE</th>\n",
       "      <th>DESCRIPTION</th>\n",
       "    </tr>\n",
       "  </thead>\n",
       "  <tbody>\n",
       "    <tr>\n",
       "      <th>0</th>\n",
       "      <td>Fitness Enthusiasts</td>\n",
       "      <td>Protein Powder</td>\n",
       "      <td>Fitness</td>\n",
       "      <td>Fuel your workouts and support muscle growth w...</td>\n",
       "      <td>$10</td>\n",
       "      <td>Purchase Protein Powder and share a photo of y...</td>\n",
       "      <td>www.fitnessenthusiasts.com/proteinpowder</td>\n",
       "      <td>gift card</td>\n",
       "      <td>Company Fitness Enthusiasts is offering a $10 ...</td>\n",
       "    </tr>\n",
       "    <tr>\n",
       "      <th>1</th>\n",
       "      <td>Wellness Enthusiasts</td>\n",
       "      <td>Essential Oil Set</td>\n",
       "      <td>Health &amp; Wellness</td>\n",
       "      <td>Enhance your well-being with our Essential Oil...</td>\n",
       "      <td>$25</td>\n",
       "      <td>Purchase Essential Oil Set and share a photo o...</td>\n",
       "      <td>www.wellnessenthusiasts.com/oilset</td>\n",
       "      <td>gift card</td>\n",
       "      <td>Company Wellness Enthusiasts is offering a $25...</td>\n",
       "    </tr>\n",
       "    <tr>\n",
       "      <th>2</th>\n",
       "      <td>Fitness Enthusiasts</td>\n",
       "      <td>Fitness Tracker</td>\n",
       "      <td>Health &amp; Fitness</td>\n",
       "      <td>Track your workouts and monitor your health wi...</td>\n",
       "      <td>$20</td>\n",
       "      <td>Purchase Fitness Tracker and enter code FITEN2...</td>\n",
       "      <td>www.fitnessenthusiasts.com/tracker</td>\n",
       "      <td>discount code</td>\n",
       "      <td>Company Fitness Enthusiasts is offering a $20 ...</td>\n",
       "    </tr>\n",
       "    <tr>\n",
       "      <th>3</th>\n",
       "      <td>Wellness Enthusiasts</td>\n",
       "      <td>Essential Oil Set</td>\n",
       "      <td>Health &amp; Wellness</td>\n",
       "      <td>Indulge in the therapeutic benefits of aromath...</td>\n",
       "      <td>$20</td>\n",
       "      <td>Purchase Essential Oil Set and write a review ...</td>\n",
       "      <td>www.wellnessenthusiasts.com/essentialoilset</td>\n",
       "      <td>cash back</td>\n",
       "      <td>Company Wellness Enthusiasts is offering a $20...</td>\n",
       "    </tr>\n",
       "    <tr>\n",
       "      <th>4</th>\n",
       "      <td>Fitness Junkies</td>\n",
       "      <td>Fitness Tracker</td>\n",
       "      <td>Sports &amp; Outdoors</td>\n",
       "      <td>Track your fitness goals and stay motivated wi...</td>\n",
       "      <td>$30</td>\n",
       "      <td>Purchase Fitness Tracker and write a review on...</td>\n",
       "      <td>www.fitnessjunkies.com/fitnesstracker</td>\n",
       "      <td>cash back</td>\n",
       "      <td>Company Fitness Junkies is offering a $30 cash...</td>\n",
       "    </tr>\n",
       "  </tbody>\n",
       "</table>\n",
       "</div>"
      ],
      "text/plain": [
       "      ORGANIZATION_NAME       PRODUCT_NAME   PRODUCT_CATEGORY  \\\n",
       "0   Fitness Enthusiasts     Protein Powder            Fitness   \n",
       "1  Wellness Enthusiasts  Essential Oil Set  Health & Wellness   \n",
       "2   Fitness Enthusiasts    Fitness Tracker   Health & Fitness   \n",
       "3  Wellness Enthusiasts  Essential Oil Set  Health & Wellness   \n",
       "4       Fitness Junkies    Fitness Tracker  Sports & Outdoors   \n",
       "\n",
       "                                 PRODUCT_DESCRIPTION REWARD  \\\n",
       "0  Fuel your workouts and support muscle growth w...    $10   \n",
       "1  Enhance your well-being with our Essential Oil...    $25   \n",
       "2  Track your workouts and monitor your health wi...    $20   \n",
       "3  Indulge in the therapeutic benefits of aromath...    $20   \n",
       "4  Track your fitness goals and stay motivated wi...    $30   \n",
       "\n",
       "                                       QUALIFICATION  \\\n",
       "0  Purchase Protein Powder and share a photo of y...   \n",
       "1  Purchase Essential Oil Set and share a photo o...   \n",
       "2  Purchase Fitness Tracker and enter code FITEN2...   \n",
       "3  Purchase Essential Oil Set and write a review ...   \n",
       "4  Purchase Fitness Tracker and write a review on...   \n",
       "\n",
       "                                     HYPERLINK    REWARD_TYPE  \\\n",
       "0     www.fitnessenthusiasts.com/proteinpowder      gift card   \n",
       "1           www.wellnessenthusiasts.com/oilset      gift card   \n",
       "2           www.fitnessenthusiasts.com/tracker  discount code   \n",
       "3  www.wellnessenthusiasts.com/essentialoilset      cash back   \n",
       "4        www.fitnessjunkies.com/fitnesstracker      cash back   \n",
       "\n",
       "                                         DESCRIPTION  \n",
       "0  Company Fitness Enthusiasts is offering a $10 ...  \n",
       "1  Company Wellness Enthusiasts is offering a $25...  \n",
       "2  Company Fitness Enthusiasts is offering a $20 ...  \n",
       "3  Company Wellness Enthusiasts is offering a $20...  \n",
       "4  Company Fitness Junkies is offering a $30 cash...  "
      ]
     },
     "execution_count": 33,
     "metadata": {},
     "output_type": "execute_result"
    }
   ],
   "source": [
    "table_results = query_table_single_where(product_table, product_uid, ids)\n",
    "table_results.head()"
   ]
  }
 ],
 "metadata": {
  "kernelspec": {
   "display_name": "Python 3 (ipykernel)",
   "language": "python",
   "name": "python3"
  },
  "language_info": {
   "codemirror_mode": {
    "name": "ipython",
    "version": 3
   },
   "file_extension": ".py",
   "mimetype": "text/x-python",
   "name": "python",
   "nbconvert_exporter": "python",
   "pygments_lexer": "ipython3",
   "version": "3.10.11"
  }
 },
 "nbformat": 4,
 "nbformat_minor": 4
}
