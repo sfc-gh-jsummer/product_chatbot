{
 "cells": [
  {
   "cell_type": "code",
   "execution_count": 3,
   "metadata": {},
   "outputs": [
    {
     "name": "stderr",
     "output_type": "stream",
     "text": [
      "/opt/conda/lib/python3.11/site-packages/snowflake/snowpark/session.py:22: DeprecationWarning: pkg_resources is deprecated as an API. See https://setuptools.pypa.io/en/latest/pkg_resources.html\n",
      "  import pkg_resources\n",
      "/opt/conda/lib/python3.11/site-packages/pkg_resources/__init__.py:2871: DeprecationWarning: Deprecated call to `pkg_resources.declare_namespace('snowflake')`.\n",
      "Implementing implicit namespace packages (as specified in PEP 420) is preferred to `pkg_resources.declare_namespace`. See https://setuptools.pypa.io/en/latest/references/keywords.html#keyword-namespace-packages\n",
      "  declare_namespace(pkg)\n"
     ]
    },
    {
     "name": "stdout",
     "output_type": "stream",
     "text": [
      "testing...\n"
     ]
    }
   ],
   "source": [
    "import json\n",
    "import os\n",
    "from datetime import datetime\n",
    "\n",
    "import weaviate\n",
    "import pandas as pd\n",
    "from snowflake.snowpark import Session"
   ]
  },
  {
   "cell_type": "code",
   "execution_count": 3,
   "metadata": {},
   "outputs": [],
   "source": [
    "class_obj_path = 'class_obj.json' # Specify the path to your class object JSON file\n",
    "source_table = 'DESCRIBER_RESULTS'\n",
    "class_name = 'Product' # Name of entity type in weaviate"
   ]
  },
  {
   "cell_type": "code",
   "execution_count": 5,
   "metadata": {},
   "outputs": [],
   "source": [
    "# Make snowpark session\n",
    "def get_token():\n",
    "    with open('/snowflake/session/token', 'r') as f:\n",
    "        return f.read()\n",
    "\n",
    "connection_params = {\n",
    "    'host': os.environ['SNOWFLAKE_HOST'],\n",
    "    'port': os.environ['SNOWFLAKE_PORT'],\n",
    "    'protocol': 'https',\n",
    "    'account': os.environ['SNOWFLAKE_ACCOUNT'],\n",
    "    'authenticator': 'oauth',\n",
    "    'token': get_token(),\n",
    "    'role': os.environ['SNOW_ROLE'],\n",
    "    'warehouse': os.environ['SNOW_WAREHOUSE'],\n",
    "    'database': os.environ[\"SNOW_DATABASE\"],\n",
    "    'schema': os.environ[\"SNOW_SCHEMA\"]\n",
    "}\n",
    "\n",
    "session = Session.builder.configs(connection_params).create()"
   ]
  },
  {
   "cell_type": "code",
   "execution_count": 4,
   "metadata": {},
   "outputs": [],
   "source": [
    "# Make connection to weaviate instance in other service\n",
    "client = weaviate.Client(\n",
    "   url = os.environ['WEAVIATE_URL'],  \n",
    " )\n",
    "\n",
    "# Open and read the JSON file\n",
    "with open(class_obj_path, 'r') as json_file:\n",
    "    # Load the JSON data into a Python dictionary\n",
    "    class_obj = json.load(json_file)\n",
    "\n",
    "# Create schema in weaviate\n",
    "client.schema.delete_all()\n",
    "client.schema.create_class(class_obj)\n",
    "\n",
    "cols = [i.get('name') for i in class_obj['properties']]\n",
    "df = session.table(source_table).select(*cols).to_pandas()\n",
    "\n",
    "def dataloader():\n",
    "    \"\"\"Iterator to load rows of pandas dataframe as dictionary\"\"\"\n",
    "    import pandas as pd\n",
    "    for _, row in df.iterrows():\n",
    "        yield row.to_dict()\n",
    "\n",
    "# Load data into weaviate in batches\n",
    "print('Batched loading into weaviate started...')\n",
    "now = datetime.now()\n",
    "with client.batch as batch:\n",
    "    batch.batch_size = 1000\n",
    "    batch.dynamic = True\n",
    "    for i, data_obj in enumerate(dataloader()):\n",
    "        batch.add_data_object(\n",
    "            data_obj,\n",
    "            class_name,\n",
    "        )\n",
    "print('Weaviate loading completed.')\n",
    "print(f'Execution time: {datetime.now() - now}.')"
   ]
  }
 ],
 "metadata": {
  "kernelspec": {
   "display_name": "Python 3 (ipykernel)",
   "language": "python",
   "name": "python3"
  },
  "language_info": {
   "codemirror_mode": {
    "name": "ipython",
    "version": 3
   },
   "file_extension": ".py",
   "mimetype": "text/x-python",
   "name": "python",
   "nbconvert_exporter": "python",
   "pygments_lexer": "ipython3",
   "version": "3.10.13"
  }
 },
 "nbformat": 4,
 "nbformat_minor": 4
}
